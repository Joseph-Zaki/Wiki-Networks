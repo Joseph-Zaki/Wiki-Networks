{
 "cells": [
  {
   "cell_type": "markdown",
   "metadata": {},
   "source": [
    "# Wikipedia Network\n",
    "Scrape all wikipedia links on a seed Wikipedia page to build a directed network where each node is a wiki page and each edge is a link"
   ]
  },
  {
   "cell_type": "code",
   "execution_count": 12,
   "metadata": {},
   "outputs": [],
   "source": [
    "# original implementation using list and pop(0) 7m 43s for d=2\n",
    "import requests\n",
    "from bs4 import BeautifulSoup\n",
    "import networkx as nx\n",
    "\n",
    "url_cache = {str: {str}}\n",
    "\n",
    "def fetch_page_wiki_links(url: str) -> set[str]:\n",
    "    if url in url_cache:\n",
    "        return url_cache[url]\n",
    "    try:\n",
    "        response = requests.get(url, timeout=10)\n",
    "    except:\n",
    "        return set()\n",
    "\n",
    "    if response.ok:\n",
    "        links = set()\n",
    "        soup = BeautifulSoup(response.content, 'html.parser')\n",
    "        a_tags = soup.find_all('a', href=True)\n",
    "        for tag in a_tags:\n",
    "            href = tag['href']\n",
    "            if href.startswith('/wiki/') and ':' not in href:\n",
    "                links.add(f\"https://en.wikipedia.org{href}\")\n",
    "        # cache set of links\n",
    "        url_cache[url] = links\n",
    "        return links\n",
    "        \n",
    "def build_wikipedia_network(seed_url, max_depth=1):\n",
    "    G = nx.DiGraph()\n",
    "    queue = [(seed_url, 0)]\n",
    "\n",
    "    while queue:\n",
    "        current_url, depth = queue.pop(0)\n",
    "\n",
    "        if depth > max_depth:\n",
    "            break\n",
    "        else:\n",
    "            links = fetch_page_wiki_links(current_url)\n",
    "            for link in links:\n",
    "                G.add_edge(current_url, link)\n",
    "                queue.append((link, depth + 1))\n",
    "\n",
    "    return G"
   ]
  },
  {
   "cell_type": "code",
   "execution_count": 20,
   "metadata": {},
   "outputs": [],
   "source": [
    "# original implementation using deque 5m 40s for d = 2\n",
    "import requests\n",
    "from bs4 import BeautifulSoup\n",
    "import networkx as nx\n",
    "from collections import deque\n",
    "url_cache = {str: {str}}\n",
    "\n",
    "def fetch_page_wiki_links(url: str) -> set[str]:\n",
    "    if url in url_cache:\n",
    "        return url_cache[url]\n",
    "    try:\n",
    "        response = requests.get(url, timeout=10)\n",
    "    except:\n",
    "        return set()\n",
    "\n",
    "    if response.ok:\n",
    "        links = set()\n",
    "        soup = BeautifulSoup(response.content, 'html.parser')\n",
    "        a_tags = soup.find_all('a', href=True)\n",
    "        for tag in a_tags:\n",
    "            href = tag['href']\n",
    "            if href.startswith('/wiki/') and ':' not in href:\n",
    "                links.add(f\"https://en.wikipedia.org{href}\")\n",
    "        # cache set of links\n",
    "        url_cache[url] = links\n",
    "        return links\n",
    "        \n",
    "def build_wikipedia_network(seed_url, max_depth=1):\n",
    "    G = nx.DiGraph()\n",
    "    queue = deque()\n",
    "    queue.append((seed_url, 0))\n",
    "\n",
    "    while queue:\n",
    "        current_url, depth = queue.popleft()\n",
    "\n",
    "        if depth > max_depth:\n",
    "            break\n",
    "        else:\n",
    "            links = fetch_page_wiki_links(current_url)\n",
    "            for link in links:\n",
    "                G.add_edge(current_url, link)\n",
    "                queue.append((link, depth + 1))\n",
    "\n",
    "    return G"
   ]
  },
  {
   "cell_type": "code",
   "execution_count": 14,
   "metadata": {},
   "outputs": [],
   "source": [
    "# recursive implementation 6m 9s for d=2\n",
    "import requests\n",
    "from bs4 import BeautifulSoup\n",
    "import networkx as nx\n",
    "from collections import deque \n",
    "\n",
    "url_cache = {str : {str}}\n",
    "\n",
    "def fetch_page_wiki_links(url: str) -> set[str]:\n",
    "    if url in url_cache:\n",
    "        return url_cache[url]\n",
    "    try:\n",
    "        response = requests.get(url, timeout=10)\n",
    "    except:\n",
    "        return set()\n",
    "\n",
    "    if response.ok:\n",
    "        links = set()\n",
    "        soup = BeautifulSoup(response.content, 'html.parser')\n",
    "        a_tags = soup.find_all('a', href=True)\n",
    "        for tag in a_tags:\n",
    "            href = tag['href']\n",
    "            if href.startswith('/wiki/') and ':' not in href:\n",
    "                links.add(f\"https://en.wikipedia.org{href}\")\n",
    "        # cache set of links\n",
    "        url_cache[url] = links\n",
    "        return links\n",
    "        \n",
    "def build_cache(seed_url, remaining_depth):\n",
    "  links = fetch_page_wiki_links(seed_url)\n",
    "  if remaining_depth <= 0:\n",
    "    result = []\n",
    "    for l in links:\n",
    "      result.append((seed_url, l))\n",
    "    return result\n",
    "  \n",
    "  result = []\n",
    "  for l in links:\n",
    "    result.extend(build_cache(l, remaining_depth-1))\n",
    "\n",
    "  return result\n",
    "\n",
    "def build_wikipedia_network(seed_url, max_depth=1):\n",
    "  G = nx.DiGraph()\n",
    "  cache = build_cache(seed_url, max_depth)\n",
    "  edge_list = [(u,v) for u, v in cache]\n",
    "  G.add_edges_from(edge_list)\n",
    "  return G"
   ]
  },
  {
   "cell_type": "code",
   "execution_count": 21,
   "metadata": {},
   "outputs": [
    {
     "name": "stdout",
     "output_type": "stream",
     "text": [
      "Number of nodes: 188950\n",
      "Number of directed edges: 410409\n"
     ]
    }
   ],
   "source": [
    "seed_url = 'https://en.wikipedia.org/wiki/Example'\n",
    "wiki_network = build_wikipedia_network(seed_url, max_depth=2)\n",
    "\n",
    "# Print the number of nodes and edges\n",
    "print(\"Number of nodes:\", wiki_network.number_of_nodes())\n",
    "print(\"Number of directed edges:\", wiki_network.number_of_edges())"
   ]
  },
  {
   "cell_type": "code",
   "execution_count": 20,
   "metadata": {},
   "outputs": [
    {
     "data": {
      "text/plain": [
       "['https://en.wikipedia.org/wiki/Example',\n",
       " 'https://en.wikipedia.org/wiki/The_Example_(comics)',\n",
       " 'https://en.wikipedia.org/wiki/Melbourne']"
      ]
     },
     "execution_count": 20,
     "metadata": {},
     "output_type": "execute_result"
    }
   ],
   "source": [
    "start = 'https://en.wikipedia.org/wiki/Example'\n",
    "target = 'https://en.wikipedia.org/wiki/Melbourne'\n",
    "nx.shortest_path(wiki_network, start, target)"
   ]
  },
  {
   "cell_type": "code",
   "execution_count": 23,
   "metadata": {},
   "outputs": [],
   "source": [
    "nx.write_adjlist(wiki_network, path = 'C:/Users/josep/OneDrive/Documents/WikiNetworks/wiki-network-2.adjlist')"
   ]
  },
  {
   "cell_type": "code",
   "execution_count": null,
   "metadata": {},
   "outputs": [],
   "source": []
  }
 ],
 "metadata": {
  "kernelspec": {
   "display_name": ".wikienv",
   "language": "python",
   "name": "python3"
  },
  "language_info": {
   "codemirror_mode": {
    "name": "ipython",
    "version": 3
   },
   "file_extension": ".py",
   "mimetype": "text/x-python",
   "name": "python",
   "nbconvert_exporter": "python",
   "pygments_lexer": "ipython3",
   "version": "3.11.3"
  }
 },
 "nbformat": 4,
 "nbformat_minor": 2
}
