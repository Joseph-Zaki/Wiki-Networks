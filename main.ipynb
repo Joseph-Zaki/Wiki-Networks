{
 "cells": [
  {
   "cell_type": "markdown",
   "metadata": {},
   "source": [
    "# Wikipedia Network\n",
    "Scrape all wikipedia links on a seed Wikipedia page to build a directed network where each node is a wiki page and each edge is a link"
   ]
  },
  {
   "cell_type": "code",
   "execution_count": 2,
   "metadata": {},
   "outputs": [],
   "source": [
    "import requests\n",
    "from bs4 import BeautifulSoup\n",
    "import networkx as nx\n",
    "\n",
    "url_cache = {str: {str}}\n",
    "\n",
    "def fetch_page_wiki_links(url: str) -> set[str]:\n",
    "    if url in url_cache:\n",
    "        return url_cache[url]\n",
    "    \n",
    "    response = requests.get(url)\n",
    "\n",
    "    if response.ok:\n",
    "        links = set()\n",
    "        soup = BeautifulSoup(response.content, 'html.parser')\n",
    "        a_tags = soup.find_all('a', href=True)\n",
    "        for tag in a_tags:\n",
    "            href = tag['href']\n",
    "            if href.startswith('/wiki/') and ':' not in href:\n",
    "                links.add(f\"https://en.wikipedia.org{href}\")\n",
    "        # cache set of links\n",
    "        url_cache[url] = links\n",
    "        return links\n",
    "        \n",
    "def build_wikipedia_network(seed_url, max_depth=1):\n",
    "    G = nx.DiGraph()\n",
    "    queue = [(seed_url, 0)]\n",
    "\n",
    "    while queue:\n",
    "        current_url, depth = queue.pop(0)\n",
    "\n",
    "        if depth > max_depth:\n",
    "            break\n",
    "        else:\n",
    "            links = fetch_page_wiki_links(current_url)\n",
    "            for link in links:\n",
    "                G.add_edge(current_url, link)\n",
    "                queue.append((link, depth + 1))\n",
    "\n",
    "    return G"
   ]
  },
  {
   "cell_type": "code",
   "execution_count": 4,
   "metadata": {},
   "outputs": [
    {
     "name": "stdout",
     "output_type": "stream",
     "text": [
      "Number of nodes: 1154\n",
      "Number of directed edges: 1204\n"
     ]
    }
   ],
   "source": [
    "seed_url = 'https://en.wikipedia.org/wiki/Example'\n",
    "wiki_network = build_wikipedia_network(seed_url, max_depth=1)\n",
    "\n",
    "# Print the number of nodes and edges\n",
    "print(\"Number of nodes:\", wiki_network.number_of_nodes())\n",
    "print(\"Number of directed edges:\", wiki_network.number_of_edges())"
   ]
  },
  {
   "cell_type": "code",
   "execution_count": 5,
   "metadata": {},
   "outputs": [
    {
     "name": "stdout",
     "output_type": "stream",
     "text": [
      "107 ms ± 2.05 ms per loop (mean ± std. dev. of 7 runs, 10 loops each)\n"
     ]
    }
   ],
   "source": [
    "%%timeit\n",
    "requests.get(seed_url)"
   ]
  }
 ],
 "metadata": {
  "kernelspec": {
   "display_name": ".wikienv",
   "language": "python",
   "name": "python3"
  },
  "language_info": {
   "codemirror_mode": {
    "name": "ipython",
    "version": 3
   },
   "file_extension": ".py",
   "mimetype": "text/x-python",
   "name": "python",
   "nbconvert_exporter": "python",
   "pygments_lexer": "ipython3",
   "version": "3.11.3"
  }
 },
 "nbformat": 4,
 "nbformat_minor": 2
}
